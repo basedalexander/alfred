{
 "cells": [
  {
   "cell_type": "code",
   "execution_count": 9,
   "id": "87b4f45f",
   "metadata": {},
   "outputs": [
    {
     "ename": "TypeError",
     "evalue": "'NoneType' object is not subscriptable",
     "output_type": "error",
     "traceback": [
      "\u001b[0;31m---------------------------------------------------------------------------\u001b[0m",
      "\u001b[0;31mTypeError\u001b[0m                                 Traceback (most recent call last)",
      "Cell \u001b[0;32mIn[9], line 46\u001b[0m\n\u001b[1;32m     44\u001b[0m \u001b[38;5;66;03m# Parse the response and print the result\u001b[39;00m\n\u001b[1;32m     45\u001b[0m result \u001b[38;5;241m=\u001b[39m json\u001b[38;5;241m.\u001b[39mloads(response\u001b[38;5;241m.\u001b[39mtext)\n\u001b[0;32m---> 46\u001b[0m \u001b[38;5;28mprint\u001b[39m(json\u001b[38;5;241m.\u001b[39mdumps(\u001b[43mresult\u001b[49m\u001b[43m[\u001b[49m\u001b[38;5;124;43m'\u001b[39;49m\u001b[38;5;124;43mdata\u001b[39;49m\u001b[38;5;124;43m'\u001b[39;49m\u001b[43m]\u001b[49m\u001b[43m[\u001b[49m\u001b[38;5;124;43m'\u001b[39;49m\u001b[38;5;124;43msocial\u001b[39;49m\u001b[38;5;124;43m'\u001b[39;49m\u001b[43m]\u001b[49m, indent\u001b[38;5;241m=\u001b[39m\u001b[38;5;241m2\u001b[39m))\n",
      "\u001b[0;31mTypeError\u001b[0m: 'NoneType' object is not subscriptable"
     ]
    }
   ],
   "source": [
    "import requests\n",
    "import json\n",
    "\n",
    "# Replace the endpoint with the appropriate Airstack API endpoint for Social data\n",
    "endpoint = \"https://api.airstack.xyz/gql\"\n",
    "api_key = '98074c673ecb4aafb7d623c37fc5ba51'\n",
    "\n",
    "# Replace the profile identity with the social profile you want to retrieve information about\n",
    "profile_identity = \"stani.lens\"\n",
    "\n",
    "# set the headers with the API key\n",
    "headers = {\n",
    "    \"Authorization\": api_key,\n",
    "    \"Content-Type\": \"application/json\"\n",
    "}\n",
    "\n",
    "\n",
    "# Define the GraphQL query to fetch the social data\n",
    "query = '''\n",
    "query GetSocialProfile($identity: String!) {\n",
    "  social(filter: { identity: $identity }) {\n",
    "    id\n",
    "    dappName\n",
    "    dappSlug\n",
    "    profileName\n",
    "    profileCreatedAtBlockNumber\n",
    "    profileCreatedAtBlockTimestamp\n",
    "    userAddress\n",
    "    userId\n",
    "    userCreatedAtBlockNumber\n",
    "    userCreatedAtBlockTimestamp\n",
    "  }\n",
    "}\n",
    "'''\n",
    "\n",
    "# Define the variables to pass into the GraphQL query\n",
    "variables = {\n",
    "    \"identity\": profile_identity\n",
    "}\n",
    "\n",
    "# Send the request to the Airstack API\n",
    "response = requests.post(endpoint, json={\"query\": query, \"variables\": variables}, headers=headers)\n",
    "\n",
    "# Parse the response and print the result\n",
    "result = json.loads(response.text)\n",
    "print(json.dumps(result['data']['social'], indent=2))\n"
   ]
  },
  {
   "cell_type": "code",
   "execution_count": 13,
   "id": "65e1d2df",
   "metadata": {},
   "outputs": [
    {
     "data": {
      "text/plain": [
       "'{\\n    \"error\": \"Access to this API has been disallowed\"\\n}'"
      ]
     },
     "execution_count": 13,
     "metadata": {},
     "output_type": "execute_result"
    }
   ],
   "source": [
    "response.text"
   ]
  },
  {
   "cell_type": "code",
   "execution_count": null,
   "id": "de0d8cea",
   "metadata": {},
   "outputs": [],
   "source": []
  }
 ],
 "metadata": {
  "kernelspec": {
   "display_name": "Python 3 (ipykernel)",
   "language": "python",
   "name": "python3"
  },
  "language_info": {
   "codemirror_mode": {
    "name": "ipython",
    "version": 3
   },
   "file_extension": ".py",
   "mimetype": "text/x-python",
   "name": "python",
   "nbconvert_exporter": "python",
   "pygments_lexer": "ipython3",
   "version": "3.8.3"
  }
 },
 "nbformat": 4,
 "nbformat_minor": 5
}
